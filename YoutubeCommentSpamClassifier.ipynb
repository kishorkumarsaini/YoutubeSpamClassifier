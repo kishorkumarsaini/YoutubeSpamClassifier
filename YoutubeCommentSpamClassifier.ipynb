{
 "cells": [
  {
   "cell_type": "code",
   "execution_count": 43,
   "metadata": {},
   "outputs": [
    {
     "data": {
      "text/plain": [
       "(392, 3590)"
      ]
     },
     "execution_count": 43,
     "metadata": {},
     "output_type": "execute_result"
    }
   ],
   "source": [
    "import pandas as pd\n",
    "import numpy as np\n",
    "import matplotlib.pyplot as plt\n",
    "from sklearn.model_selection import train_test_split\n",
    "A=pd.read_csv('Youtube01-Psy.csv')\n",
    "B=pd.read_csv('Youtube02-KatyPerry.csv')\n",
    "C=pd.read_csv('Youtube03-LMFAO.csv')\n",
    "D=pd.read_csv('Youtube04-Eminem.csv')\n",
    "E=pd.read_csv('Youtube05-Shakira.csv')\n",
    "\n",
    "dataset=pd.concat([A,B,C,D,E],sort=True)\n",
    "dataset.head()\n",
    "#Drop the Author and Date\n",
    "dataset.drop(['AUTHOR','DATE','COMMENT_ID'],axis=1,inplace=True)\n",
    "x=dataset['CONTENT']\n",
    "y=dataset['CLASS']\n",
    "\n",
    "#spliting the dataset in training and testing\n",
    "x_train,x_test,y_train,y_test=train_test_split(x,y,test_size=0.2,random_state=0)\n",
    "\n",
    "#we need Convectortizer inoder to  Convert a collection of text to a matrix of token counts.\n",
    "#This will help in the later computation\n",
    "\n",
    "from sklearn.feature_extraction.text import CountVectorizer\n",
    "vectorizer=CountVectorizer()\n",
    "vectorizer.fit(x_train)\n",
    "vectorizer.fit_transform(x_train)\n",
    "cont_vector=CountVectorizer(stop_words='english')\n",
    "x_train_count=cont_vector.fit_transform(x_train)\n",
    "x_test_count=cont_vector.transform(x_test)\n",
    "\n",
    "#convert the frequency of word using TF TF-IDF\n",
    "from sklearn.feature_extraction.text import TfidfTransformer\n",
    "tranfomr=TfidfTransformer()\n",
    "x_train_tfid=tranfomr.fit_transform(x_train_count)\n",
    "x_test_tfid=tranfomr.transform(x_test_count)\n",
    "x_train_count.shape\n",
    "y_train.shape\n",
    "x_train_tfid.shape\n",
    "x_test_tfid.shape"
   ]
  },
  {
   "cell_type": "markdown",
   "metadata": {},
   "source": [
    "## Training The Model"
   ]
  },
  {
   "cell_type": "code",
   "execution_count": 48,
   "metadata": {},
   "outputs": [
    {
     "data": {
      "text/plain": [
       "0.8877551020408163"
      ]
     },
     "execution_count": 48,
     "metadata": {},
     "output_type": "execute_result"
    }
   ],
   "source": [
    "from sklearn.naive_bayes import MultinomialNB\n",
    "from sklearn.metrics import accuracy_score\n",
    "model=MultinomialNB()\n",
    "model.fit(x_train_tfid,y_train)\n",
    "\n",
    "#prdict the value\n",
    "\n",
    "y_predict=model.predict(x_test_tfid)\n",
    "\n",
    "accuracy=accuracy_score(y_test,y_predict)\n",
    "accuracy"
   ]
  },
  {
   "cell_type": "code",
   "execution_count": null,
   "metadata": {},
   "outputs": [],
   "source": []
  }
 ],
 "metadata": {
  "kernelspec": {
   "display_name": "Python 3",
   "language": "python",
   "name": "python3"
  },
  "language_info": {
   "codemirror_mode": {
    "name": "ipython",
    "version": 3
   },
   "file_extension": ".py",
   "mimetype": "text/x-python",
   "name": "python",
   "nbconvert_exporter": "python",
   "pygments_lexer": "ipython3",
   "version": "3.6.8"
  }
 },
 "nbformat": 4,
 "nbformat_minor": 2
}
